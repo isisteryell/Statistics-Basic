{
  "cells": [
    {
      "cell_type": "markdown",
      "metadata": {
        "id": "glnGIkTQq1Wk"
      },
      "source": [
        "# Statistics Assignment"
      ],
      "id": "glnGIkTQq1Wk"
    },
    {
      "cell_type": "markdown",
      "metadata": {
        "id": "grtar2QKq1Wr"
      },
      "source": [
        "### Statistics Basics (Conceptual Questions)"
      ],
      "id": "grtar2QKq1Wr"
    },
    {
      "cell_type": "markdown",
      "metadata": {
        "id": "8vmfN2yLq1Wt"
      },
      "source": [
        "**Q1. What is statistics, and why is it important?**"
      ],
      "id": "8vmfN2yLq1Wt"
    },
    {
      "cell_type": "markdown",
      "metadata": {
        "id": "Vb_JR5WUq1Wt"
      },
      "source": [
        "Statistics is the science of collecting, analyzing, presenting, and interpreting data. It's important because it enables informed decision-making based on empirical evidence."
      ],
      "id": "Vb_JR5WUq1Wt"
    },
    {
      "cell_type": "markdown",
      "metadata": {
        "id": "sDNKsp8Hq1Wt"
      },
      "source": [
        "**Q2. What are the two main types of statistics?**"
      ],
      "id": "sDNKsp8Hq1Wt"
    },
    {
      "cell_type": "markdown",
      "metadata": {
        "id": "ljW1VFZEq1Wt"
      },
      "source": [
        "1. **Descriptive Statistics**\n",
        "2. **Inferential Statistics**"
      ],
      "id": "ljW1VFZEq1Wt"
    },
    {
      "cell_type": "markdown",
      "metadata": {
        "id": "YiKvdcULq1Wt"
      },
      "source": [
        "**Q3. What are descriptive statistics?**"
      ],
      "id": "YiKvdcULq1Wt"
    },
    {
      "cell_type": "markdown",
      "metadata": {
        "id": "5UOlfbDKq1Wu"
      },
      "source": [
        "Descriptive statistics summarize and organize data using measures such as mean, median, mode, variance, and graphical representations."
      ],
      "id": "5UOlfbDKq1Wu"
    },
    {
      "cell_type": "markdown",
      "metadata": {
        "id": "R1r2tJT_q1Wu"
      },
      "source": [
        "**Q4. What is inferential statistics?**"
      ],
      "id": "R1r2tJT_q1Wu"
    },
    {
      "cell_type": "markdown",
      "metadata": {
        "id": "SCCnm64Uq1Wu"
      },
      "source": [
        "Inferential statistics make predictions or inferences about a population based on a sample, using techniques like hypothesis testing and confidence intervals."
      ],
      "id": "SCCnm64Uq1Wu"
    },
    {
      "cell_type": "markdown",
      "metadata": {
        "id": "B2MEriNeq1Wv"
      },
      "source": [
        "**Q5. What is sampling in statistics?**"
      ],
      "id": "B2MEriNeq1Wv"
    },
    {
      "cell_type": "markdown",
      "metadata": {
        "id": "fLyMT1Bqq1Wv"
      },
      "source": [
        "Sampling is the process of selecting a subset of individuals from a population to estimate characteristics of the whole population."
      ],
      "id": "fLyMT1Bqq1Wv"
    },
    {
      "cell_type": "markdown",
      "metadata": {
        "id": "V_nCVJg0q1Wv"
      },
      "source": [
        "**Q6. What are the different types of sampling methods?**"
      ],
      "id": "V_nCVJg0q1Wv"
    },
    {
      "cell_type": "markdown",
      "metadata": {
        "id": "XzJjEnnBq1Wv"
      },
      "source": [
        "- **Simple Random Sampling**\n",
        "- **Systematic Sampling**\n",
        "- **Stratified Sampling**\n",
        "- **Cluster Sampling**\n",
        "- **Convenience Sampling**"
      ],
      "id": "XzJjEnnBq1Wv"
    },
    {
      "cell_type": "markdown",
      "metadata": {
        "id": "iKOQgxywq1Wv"
      },
      "source": [
        "**Q7. What is the difference between random and non-random sampling?**"
      ],
      "id": "iKOQgxywq1Wv"
    },
    {
      "cell_type": "markdown",
      "metadata": {
        "id": "KysxszaUq1Wv"
      },
      "source": [
        "Random sampling gives every member of the population an equal chance of selection; non-random sampling involves subjective criteria and may introduce bias."
      ],
      "id": "KysxszaUq1Wv"
    },
    {
      "cell_type": "markdown",
      "metadata": {
        "id": "r_hRoN3Fq1Ww"
      },
      "source": [
        "**Q8. Define and give examples of qualitative and quantitative data.**"
      ],
      "id": "r_hRoN3Fq1Ww"
    },
    {
      "cell_type": "markdown",
      "metadata": {
        "id": "Rc3mkdvOq1Ww"
      },
      "source": [
        "- **Qualitative Data:** Categorical, non-numeric (e.g., colors, names, gender).\n",
        "- **Quantitative Data:** Numeric, measurable (e.g., age, height, income)."
      ],
      "id": "Rc3mkdvOq1Ww"
    },
    {
      "cell_type": "markdown",
      "metadata": {
        "id": "ZspZAmVQq1Ww"
      },
      "source": [
        "**Q9. What are the different types of data in statistics?**"
      ],
      "id": "ZspZAmVQq1Ww"
    },
    {
      "cell_type": "markdown",
      "metadata": {
        "id": "uZQYqThCq1Wx"
      },
      "source": [
        "- **Nominal**\n",
        "- **Ordinal**\n",
        "- **Interval**\n",
        "- **Ratio**"
      ],
      "id": "uZQYqThCq1Wx"
    },
    {
      "cell_type": "markdown",
      "metadata": {
        "id": "dX2O_bCKq1Wy"
      },
      "source": [
        "**Q10. Explain nominal, ordinal, interval, and ratio levels of measurement.**"
      ],
      "id": "dX2O_bCKq1Wy"
    },
    {
      "cell_type": "markdown",
      "metadata": {
        "id": "oBR4bex4q1Wy"
      },
      "source": [
        "- **Nominal:** Categories without order (e.g., blood type).\n",
        "- **Ordinal:** Ordered categories without consistent intervals (e.g., rankings).\n",
        "- **Interval:** Ordered with equal intervals, no true zero (e.g., temperature in °C).\n",
        "- **Ratio:** Ordered with equal intervals and true zero (e.g., weight, height)."
      ],
      "id": "oBR4bex4q1Wy"
    },
    {
      "cell_type": "markdown",
      "metadata": {
        "id": "6ax0czzPq1W0"
      },
      "source": [
        "**Q11. What is the measure of central tendency?**"
      ],
      "id": "6ax0czzPq1W0"
    },
    {
      "cell_type": "markdown",
      "metadata": {
        "id": "1ZNMQMDzq1W1"
      },
      "source": [
        "A measure of central tendency is a statistic that represents a central or typical value for a dataset (mean, median, mode)."
      ],
      "id": "1ZNMQMDzq1W1"
    },
    {
      "cell_type": "markdown",
      "metadata": {
        "id": "5HwfXPySq1W2"
      },
      "source": [
        "**Q12. Define mean, median, and mode.**"
      ],
      "id": "5HwfXPySq1W2"
    },
    {
      "cell_type": "markdown",
      "metadata": {
        "id": "bEJpTMFKq1W4"
      },
      "source": [
        "- **Mean:** Arithmetic average of values.\n",
        "- **Median:** Middle value when data are ordered.\n",
        "- **Mode:** Most frequently occurring value."
      ],
      "id": "bEJpTMFKq1W4"
    },
    {
      "cell_type": "markdown",
      "metadata": {
        "id": "Rq5XdRLwq1W5"
      },
      "source": [
        "**Q13. What is the significance of the measure of central tendency?**"
      ],
      "id": "Rq5XdRLwq1W5"
    },
    {
      "cell_type": "markdown",
      "metadata": {
        "id": "NClEIsf9q1W8"
      },
      "source": [
        "It provides a single representative value summarizing the entire dataset."
      ],
      "id": "NClEIsf9q1W8"
    },
    {
      "cell_type": "markdown",
      "metadata": {
        "id": "_Cb9IZaIq1W9"
      },
      "source": [
        "**Q14. What is variance, and how is it calculated?**"
      ],
      "id": "_Cb9IZaIq1W9"
    },
    {
      "cell_type": "markdown",
      "metadata": {
        "id": "NFtH0_mWq1W_"
      },
      "source": [
        "Variance is the average of squared deviations from the mean: $\\sigma^2 = \\frac{1}{N}\\sum (x_i - \\mu)^2$."
      ],
      "id": "NFtH0_mWq1W_"
    },
    {
      "cell_type": "markdown",
      "metadata": {
        "id": "F_fqh47aq1XB"
      },
      "source": [
        "**Q15. What is standard deviation, and why is it important?**"
      ],
      "id": "F_fqh47aq1XB"
    },
    {
      "cell_type": "markdown",
      "metadata": {
        "id": "uHoxa4cqq1XD"
      },
      "source": [
        "Standard deviation is the square root of variance, measuring spread in original units; important for assessing variability."
      ],
      "id": "uHoxa4cqq1XD"
    },
    {
      "cell_type": "markdown",
      "metadata": {
        "id": "U_4caq-bq1XG"
      },
      "source": [
        "**Q16. Define and explain the term range in statistics.**"
      ],
      "id": "U_4caq-bq1XG"
    },
    {
      "cell_type": "markdown",
      "metadata": {
        "id": "ng4ZkmIuq1XH"
      },
      "source": [
        "Range is the difference between the maximum and minimum values in a dataset."
      ],
      "id": "ng4ZkmIuq1XH"
    },
    {
      "cell_type": "markdown",
      "metadata": {
        "id": "ID1bMkhHq1XI"
      },
      "source": [
        "**Q17. What is the difference between variance and standard deviation?**"
      ],
      "id": "ID1bMkhHq1XI"
    },
    {
      "cell_type": "markdown",
      "metadata": {
        "id": "CUmpfpTkq1XI"
      },
      "source": [
        "Variance is in squared units; standard deviation is in original units, making interpretation easier."
      ],
      "id": "CUmpfpTkq1XI"
    },
    {
      "cell_type": "markdown",
      "metadata": {
        "id": "mF-akIUhq1XJ"
      },
      "source": [
        "**Q18. What is skewness in a dataset?**"
      ],
      "id": "mF-akIUhq1XJ"
    },
    {
      "cell_type": "markdown",
      "metadata": {
        "id": "YPm2qc-Qq1XK"
      },
      "source": [
        "Skewness measures the asymmetry of a distribution around its mean."
      ],
      "id": "YPm2qc-Qq1XK"
    },
    {
      "cell_type": "markdown",
      "metadata": {
        "id": "AmIWpWEsq1XL"
      },
      "source": [
        "**Q19. What does it mean if a dataset is positively or negatively skewed?**"
      ],
      "id": "AmIWpWEsq1XL"
    },
    {
      "cell_type": "markdown",
      "metadata": {
        "id": "9omjL0Nlq1XM"
      },
      "source": [
        "- **Positively skewed:** Long right tail (mean > median).\n",
        "- **Negatively skewed:** Long left tail (mean < median)."
      ],
      "id": "9omjL0Nlq1XM"
    },
    {
      "cell_type": "markdown",
      "metadata": {
        "id": "Yf9hbcIiq1XM"
      },
      "source": [
        "**Q20. Define and explain kurtosis.**"
      ],
      "id": "Yf9hbcIiq1XM"
    },
    {
      "cell_type": "markdown",
      "metadata": {
        "id": "hfmyVJ3eq1XM"
      },
      "source": [
        "Kurtosis measures the 'tailedness' or peakedness of a distribution relative to a normal distribution."
      ],
      "id": "hfmyVJ3eq1XM"
    },
    {
      "cell_type": "markdown",
      "metadata": {
        "id": "7Yzw0MTuq1XM"
      },
      "source": [
        "**Q21. What is the purpose of covariance?**"
      ],
      "id": "7Yzw0MTuq1XM"
    },
    {
      "cell_type": "markdown",
      "metadata": {
        "id": "r6_EbZ-kq1XN"
      },
      "source": [
        "Covariance quantifies how two variables vary together; positive covariance means they increase together."
      ],
      "id": "r6_EbZ-kq1XN"
    },
    {
      "cell_type": "markdown",
      "metadata": {
        "id": "lemqLF-Oq1XN"
      },
      "source": [
        "**Q22. What does correlation measure in statistics?**"
      ],
      "id": "lemqLF-Oq1XN"
    },
    {
      "cell_type": "markdown",
      "metadata": {
        "id": "eqgVGIxtq1XN"
      },
      "source": [
        "Correlation measures the strength and direction of a linear relationship between two variables, scaled between –1 and 1."
      ],
      "id": "eqgVGIxtq1XN"
    },
    {
      "cell_type": "markdown",
      "metadata": {
        "id": "cESpm6Ttq1XN"
      },
      "source": [
        "**Q23. What is the difference between covariance and correlation?**"
      ],
      "id": "cESpm6Ttq1XN"
    },
    {
      "cell_type": "markdown",
      "metadata": {
        "id": "4XZs_aVwq1XP"
      },
      "source": [
        "Covariance is scale-dependent; correlation is standardized, making comparisons across datasets possible."
      ],
      "id": "4XZs_aVwq1XP"
    },
    {
      "cell_type": "markdown",
      "metadata": {
        "id": "exwE27Atq1XP"
      },
      "source": [
        "**Q24. What are some real-world applications of statistics?**"
      ],
      "id": "exwE27Atq1XP"
    },
    {
      "cell_type": "markdown",
      "metadata": {
        "id": "3HaNLfJtq1XQ"
      },
      "source": [
        "- Finance (risk analysis)\n",
        "- Medicine (clinical trials)\n",
        "- Business (market research)\n",
        "- Government (census, policy)\n",
        "- Sports analytics"
      ],
      "id": "3HaNLfJtq1XQ"
    },
    {
      "cell_type": "markdown",
      "metadata": {
        "id": "Y-SwleLqq1XR"
      },
      "source": [
        "### Statistics Basics (Python Computations)"
      ],
      "id": "Y-SwleLqq1XR"
    },
    {
      "cell_type": "markdown",
      "metadata": {
        "id": "G83YjqZbq1XR"
      },
      "source": [
        "**Q25. How do you calculate the mean, median, and mode of a dataset?**"
      ],
      "id": "G83YjqZbq1XR"
    },
    {
      "cell_type": "markdown",
      "metadata": {
        "id": "rQgclaUhq1XT"
      },
      "source": [
        "- **Mean:** `sum(data)/len(data)`\n",
        "- **Median:** sort and select middle value\n",
        "- **Mode:** most frequent element"
      ],
      "id": "rQgclaUhq1XT"
    },
    {
      "cell_type": "markdown",
      "metadata": {
        "id": "2flTowoVq1XU"
      },
      "source": [
        "**Q26. Write a Python program to compute the variance and standard deviation of a dataset.**"
      ],
      "id": "2flTowoVq1XU"
    },
    {
      "cell_type": "code",
      "source": [
        "import numpy as np\n",
        "import pandas as pd\n",
        "import matplotlib.pyplot as plt\n",
        "import seaborn as sns\n",
        "from scipy import stats"
      ],
      "metadata": {
        "id": "-5ds5z8TrXGJ"
      },
      "id": "-5ds5z8TrXGJ",
      "execution_count": 1,
      "outputs": []
    },
    {
      "cell_type": "code",
      "execution_count": 2,
      "metadata": {
        "colab": {
          "base_uri": "https://localhost:8080/"
        },
        "id": "NMKhRusPq1XV",
        "outputId": "f5e38364-9660-41de-93fe-bf021d94508e"
      },
      "outputs": [
        {
          "output_type": "execute_result",
          "data": {
            "text/plain": [
              "(np.float64(2.0), np.float64(1.4142135623730951))"
            ]
          },
          "metadata": {},
          "execution_count": 2
        }
      ],
      "source": [
        "def variance_std(data, ddof=0):\n",
        "    arr = np.array(data)\n",
        "    var = arr.var(ddof=ddof)\n",
        "    std = arr.std(ddof=ddof)\n",
        "    return var, std\n",
        "\n",
        "data = [1, 2, 3, 4, 5]\n",
        "variance, std_dev = variance_std(data)\n",
        "variance, std_dev"
      ],
      "id": "NMKhRusPq1XV"
    },
    {
      "cell_type": "markdown",
      "metadata": {
        "id": "fQ_s6opdq1XX"
      },
      "source": [
        "**Q27. Create a dataset and classify it into nominal, ordinal, interval, and ratio types.**"
      ],
      "id": "fQ_s6opdq1XX"
    },
    {
      "cell_type": "code",
      "execution_count": 3,
      "metadata": {
        "colab": {
          "base_uri": "https://localhost:8080/"
        },
        "id": "QLe6MC-tq1XY",
        "outputId": "03a25426-f1d1-439c-9050-c6fa1fdfe35e"
      },
      "outputs": [
        {
          "output_type": "execute_result",
          "data": {
            "text/plain": [
              "(['red', 'blue', 'green'],\n",
              " ['low', 'medium', 'high'],\n",
              " [10, 20, 30],\n",
              " [50, 60, 70])"
            ]
          },
          "metadata": {},
          "execution_count": 3
        }
      ],
      "source": [
        "# Nominal: colors\n",
        "nominal = ['red', 'blue', 'green']\n",
        "# Ordinal: ranks\n",
        "ordinal = ['low', 'medium', 'high']\n",
        "# Interval: temp in °C\n",
        "interval = [10, 20, 30]\n",
        "# Ratio: weights in kg\n",
        "ratio = [50, 60, 70]\n",
        "nominal, ordinal, interval, ratio"
      ],
      "id": "QLe6MC-tq1XY"
    },
    {
      "cell_type": "markdown",
      "metadata": {
        "id": "hENc8vAQq1Xa"
      },
      "source": [
        "**Q28. Implement sampling techniques like random sampling and stratified sampling.**"
      ],
      "id": "hENc8vAQq1Xa"
    },
    {
      "cell_type": "code",
      "execution_count": 4,
      "metadata": {
        "colab": {
          "base_uri": "https://localhost:8080/"
        },
        "id": "m5ltX0Qbq1Xb",
        "outputId": "f3376775-9710-452a-b957-a83bc1ffeb52"
      },
      "outputs": [
        {
          "output_type": "stream",
          "name": "stderr",
          "text": [
            "<ipython-input-4-f31420c0d759>:8: DeprecationWarning: DataFrameGroupBy.apply operated on the grouping columns. This behavior is deprecated, and in a future version of pandas the grouping columns will be excluded from the operation. Either pass `include_groups=False` to exclude the groupings or explicitly select the grouping columns after groupby to silence this warning.\n",
            "  strat_sample = strata.apply(lambda x: x.sample(5))\n"
          ]
        },
        {
          "output_type": "execute_result",
          "data": {
            "text/plain": [
              "([85, 62, 17, 22, 16, 30, 63, 36, 4, 29],\n",
              "     value group\n",
              " 48     49     A\n",
              " 8       9     A\n",
              " 24     25     A\n",
              " 33     34     A\n",
              " 47     48     A\n",
              " 81     82     B\n",
              " 95     96     B\n",
              " 99    100     B\n",
              " 97     98     B\n",
              " 89     90     B)"
            ]
          },
          "metadata": {},
          "execution_count": 4
        }
      ],
      "source": [
        "import random\n",
        "# Simple random sampling\n",
        "population = list(range(1, 101))\n",
        "random_sample = random.sample(population, 10)\n",
        "# Stratified sampling\n",
        "df = pd.DataFrame({'value': population, 'group': ['A']*50 + ['B']*50})\n",
        "strata = df.groupby('group', group_keys=False)\n",
        "strat_sample = strata.apply(lambda x: x.sample(5))\n",
        "random_sample, strat_sample"
      ],
      "id": "m5ltX0Qbq1Xb"
    },
    {
      "cell_type": "markdown",
      "metadata": {
        "id": "Pn86pb0Pq1Xc"
      },
      "source": [
        "**Q29. Write a Python function to calculate the range of a dataset.**"
      ],
      "id": "Pn86pb0Pq1Xc"
    },
    {
      "cell_type": "code",
      "execution_count": 5,
      "metadata": {
        "colab": {
          "base_uri": "https://localhost:8080/"
        },
        "id": "UppwrUOYq1Xd",
        "outputId": "3be45adc-2bff-4a83-f8d0-79aac3822021"
      },
      "outputs": [
        {
          "output_type": "execute_result",
          "data": {
            "text/plain": [
              "8"
            ]
          },
          "metadata": {},
          "execution_count": 5
        }
      ],
      "source": [
        "def data_range(data):\n",
        "    return max(data) - min(data)\n",
        "\n",
        "data_range([1, 5, 3, 9, 2])"
      ],
      "id": "UppwrUOYq1Xd"
    },
    {
      "cell_type": "markdown",
      "metadata": {
        "id": "GQ2sVmmRq1Xe"
      },
      "source": [
        "**Q30. Create a dataset and plot its histogram to visualize skewness.**"
      ],
      "id": "GQ2sVmmRq1Xe"
    },
    {
      "cell_type": "code",
      "execution_count": 6,
      "metadata": {
        "colab": {
          "base_uri": "https://localhost:8080/",
          "height": 452
        },
        "id": "B1NugMw4q1Xe",
        "outputId": "4c45e7a7-6fe1-4375-d0b8-c1327f9b879d"
      },
      "outputs": [
        {
          "output_type": "display_data",
          "data": {
            "text/plain": [
              "<Figure size 640x480 with 1 Axes>"
            ],
            "image/png": "[encoded data removed]"
          },
          "metadata": {}
        }
      ],
      "source": [
        "data_skew = np.random.exponential(scale=2, size=1000)\n",
        "plt.hist(data_skew, bins=30)\n",
        "plt.title('Histogram of Exponential (Right-Skewed)')\n",
        "plt.show()"
      ],
      "id": "B1NugMw4q1Xe"
    },
    {
      "cell_type": "markdown",
      "metadata": {
        "id": "LLXprsKbq1Xg"
      },
      "source": [
        "**Q31. Calculate skewness and kurtosis of a dataset using Python libraries.**"
      ],
      "id": "LLXprsKbq1Xg"
    },
    {
      "cell_type": "code",
      "execution_count": 7,
      "metadata": {
        "colab": {
          "base_uri": "https://localhost:8080/"
        },
        "id": "EFBAZ7M6q1Xh",
        "outputId": "2a3f59b7-87cf-4f6e-909c-3816e87a4366"
      },
      "outputs": [
        {
          "output_type": "stream",
          "name": "stdout",
          "text": [
            "Skewness: 1.8810988015908214\n",
            "Kurtosis: 4.766073091262757\n"
          ]
        }
      ],
      "source": [
        "from scipy.stats import skew, kurtosis\n",
        "print('Skewness:', skew(data_skew))\n",
        "print('Kurtosis:', kurtosis(data_skew))"
      ],
      "id": "EFBAZ7M6q1Xh"
    },
    {
      "cell_type": "markdown",
      "metadata": {
        "id": "vtxAHTx8q1Xi"
      },
      "source": [
        "**Q32. Generate a dataset and demonstrate positive and negative skewness.**"
      ],
      "id": "vtxAHTx8q1Xi"
    },
    {
      "cell_type": "code",
      "execution_count": 8,
      "metadata": {
        "colab": {
          "base_uri": "https://localhost:8080/"
        },
        "id": "COrRSNY0q1Xj",
        "outputId": "2f0bc431-5b70-4661-9dbd-d0839fe35a6e"
      },
      "outputs": [
        {
          "output_type": "stream",
          "name": "stdout",
          "text": [
            "Pos skew: 2.0861585848227437\n",
            "Neg skew: -2.34454894744942\n"
          ]
        }
      ],
      "source": [
        "# Positive skew\n",
        "pos = np.random.exponential(size=500)\n",
        "# Negative skew by mirroring\n",
        "neg = -np.random.exponential(size=500)\n",
        "print('Pos skew:', skew(pos))\n",
        "print('Neg skew:', skew(neg))"
      ],
      "id": "COrRSNY0q1Xj"
    },
    {
      "cell_type": "markdown",
      "metadata": {
        "id": "DYmqHC-tq1Xl"
      },
      "source": [
        "**Q33. Write a Python script to calculate covariance between two datasets.**"
      ],
      "id": "DYmqHC-tq1Xl"
    },
    {
      "cell_type": "code",
      "execution_count": 9,
      "metadata": {
        "colab": {
          "base_uri": "https://localhost:8080/"
        },
        "id": "X7t-sh3yq1Xm",
        "outputId": "1e122552-1d0f-41c1-be71-a7deb0121142"
      },
      "outputs": [
        {
          "output_type": "execute_result",
          "data": {
            "text/plain": [
              "np.float64(0.14919807828452752)"
            ]
          },
          "metadata": {},
          "execution_count": 9
        }
      ],
      "source": [
        "x = np.random.rand(100)\n",
        "y = 2 * x + np.random.randn(100) * 0.1\n",
        "cov_matrix = np.cov(x, y)\n",
        "cov_xy = cov_matrix[0, 1]\n",
        "cov_xy"
      ],
      "id": "X7t-sh3yq1Xm"
    },
    {
      "cell_type": "markdown",
      "metadata": {
        "id": "4T8MYsdRq1Xn"
      },
      "source": [
        "**Q34. Write a Python script to calculate the correlation coefficient between two datasets.**"
      ],
      "id": "4T8MYsdRq1Xn"
    },
    {
      "cell_type": "code",
      "execution_count": 10,
      "metadata": {
        "colab": {
          "base_uri": "https://localhost:8080/"
        },
        "id": "VuWtAMk0q1Xo",
        "outputId": "cc516a2b-3571-43d9-c128-165d2915f4f3"
      },
      "outputs": [
        {
          "output_type": "execute_result",
          "data": {
            "text/plain": [
              "np.float64(0.9839460728127074)"
            ]
          },
          "metadata": {},
          "execution_count": 10
        }
      ],
      "source": [
        "corr_coef = np.corrcoef(x, y)[0, 1]\n",
        "corr_coef"
      ],
      "id": "VuWtAMk0q1Xo"
    },
    {
      "cell_type": "markdown",
      "metadata": {
        "id": "zw1E-EF9q1Xo"
      },
      "source": [
        "**Q35. Create a scatter plot to visualize the relationship between two variables.**"
      ],
      "id": "zw1E-EF9q1Xo"
    },
    {
      "cell_type": "code",
      "execution_count": 11,
      "metadata": {
        "colab": {
          "base_uri": "https://localhost:8080/",
          "height": 472
        },
        "id": "uf6vWQETq1Xo",
        "outputId": "de4b116d-7297-4acf-f1dd-b1ec9bdd4131"
      },
      "outputs": [
        {
          "output_type": "display_data",
          "data": {
            "text/plain": [
              "<Figure size 640x480 with 1 Axes>"
            ],
            "image/png": "[encoded data removed]"
          },
          "metadata": {}
        }
      ],
      "source": [
        "plt.scatter(x, y)\n",
        "plt.title('Scatter Plot of x vs y')\n",
        "plt.xlabel('x')\n",
        "plt.ylabel('y')\n",
        "plt.show()"
      ],
      "id": "uf6vWQETq1Xo"
    },
    {
      "cell_type": "markdown",
      "metadata": {
        "id": "s24qZvOPq1Xo"
      },
      "source": [
        "**Q36. Implement and compare simple random sampling and systematic sampling.**"
      ],
      "id": "s24qZvOPq1Xo"
    },
    {
      "cell_type": "code",
      "execution_count": 12,
      "metadata": {
        "colab": {
          "base_uri": "https://localhost:8080/"
        },
        "id": "0iEC-AsUq1Xp",
        "outputId": "2f75c4fc-e72c-4e24-e080-49c2c9a8d6f8"
      },
      "outputs": [
        {
          "output_type": "execute_result",
          "data": {
            "text/plain": [
              "([31, 58, 57, 36, 66, 51, 9, 97, 76, 67],\n",
              " [1, 11, 21, 31, 41, 51, 61, 71, 81, 91])"
            ]
          },
          "metadata": {},
          "execution_count": 12
        }
      ],
      "source": [
        "pop = list(range(1, 101))\n",
        "# Simple random\n",
        "srs = random.sample(pop, 10)\n",
        "# Systematic: every 10th\n",
        "step = len(pop)//10\n",
        "sys_sample = pop[::step][:10]\n",
        "srs, sys_sample"
      ],
      "id": "0iEC-AsUq1Xp"
    },
    {
      "cell_type": "markdown",
      "metadata": {
        "id": "KA_3h985q1Xp"
      },
      "source": [
        "**Q37. Calculate the mean, median, and mode of grouped data.**"
      ],
      "id": "KA_3h985q1Xp"
    },
    {
      "cell_type": "code",
      "execution_count": 13,
      "metadata": {
        "colab": {
          "base_uri": "https://localhost:8080/"
        },
        "id": "0lDdm1B6q1Xr",
        "outputId": "8c7e60ea-a549-4f90-f548-f0be6b18fe0a"
      },
      "outputs": [
        {
          "output_type": "execute_result",
          "data": {
            "text/plain": [
              "19.444444444444443"
            ]
          },
          "metadata": {},
          "execution_count": 13
        }
      ],
      "source": [
        "# grouped data\n",
        "groups = [(0,10,5), (10,20,15), (20,30,25)]  # (lower, upper, freq)\n",
        "midpoints = [ (l+u)/2 for l,u,f in groups ]\n",
        "freqs = [f for l,u,f in groups]\n",
        "mean_grouped = sum(m*f for m,f in zip(midpoints,freqs)) / sum(freqs)\n",
        "mean_grouped"
      ],
      "id": "0lDdm1B6q1Xr"
    },
    {
      "cell_type": "markdown",
      "metadata": {
        "id": "cYYG7acKq1Xs"
      },
      "source": [
        "**Q38. Simulate data using Python and calculate its central tendency and dispersion.**"
      ],
      "id": "cYYG7acKq1Xs"
    },
    {
      "cell_type": "code",
      "execution_count": 14,
      "metadata": {
        "colab": {
          "base_uri": "https://localhost:8080/"
        },
        "id": "dFhFdLgXq1Xt",
        "outputId": "ede57920-71b3-4c72-a7d0-966779d076cd"
      },
      "outputs": [
        {
          "output_type": "stream",
          "name": "stdout",
          "text": [
            "Mean: 50.09497850978783\n",
            "Median: 49.974821538252414\n",
            "Mode: 15.310014833197762\n",
            "Variance: 94.02612717734952\n",
            "Std Dev: 9.696707027509365\n"
          ]
        }
      ],
      "source": [
        "sim = np.random.normal(loc=50, scale=10, size=1000)\n",
        "print('Mean:', np.mean(sim))\n",
        "print('Median:', np.median(sim))\n",
        "print('Mode:', stats.mode(sim).mode)\n",
        "print('Variance:', np.var(sim))\n",
        "print('Std Dev:', np.std(sim))"
      ],
      "id": "dFhFdLgXq1Xt"
    },
    {
      "cell_type": "markdown",
      "metadata": {
        "id": "onqc3Ojmq1Xu"
      },
      "source": [
        "### Practical Exercises (Advanced Python)"
      ],
      "id": "onqc3Ojmq1Xu"
    },
    {
      "cell_type": "markdown",
      "metadata": {
        "id": "Nh-FqE3Iq1Xu"
      },
      "source": [
        "**Q39. Use NumPy or pandas to summarize a dataset’s descriptive statistics.**"
      ],
      "id": "Nh-FqE3Iq1Xu"
    },
    {
      "cell_type": "code",
      "execution_count": 15,
      "metadata": {
        "colab": {
          "base_uri": "https://localhost:8080/",
          "height": 300
        },
        "id": "7BxiK1f7q1Xv",
        "outputId": "80a28fb4-ddb5-40a7-b042-c8b494582257"
      },
      "outputs": [
        {
          "output_type": "execute_result",
          "data": {
            "text/plain": [
              "                A           B\n",
              "count  100.000000  100.000000\n",
              "mean     0.077897   49.777405\n",
              "std      1.050532    9.735877\n",
              "min     -3.108326   26.009460\n",
              "25%     -0.599671   42.883708\n",
              "50%      0.004454   49.158860\n",
              "75%      0.804723   55.833038\n",
              "max      2.839075   75.734327"
            ],
            "text/html": [
              "\n",
              "  <div id=\"df-ea56d649-6b2c-44cc-b67b-1d962c0cfa0b\" class=\"colab-df-container\">\n",
              "    <div>\n",
              "<style scoped>\n",
              "    .dataframe tbody tr th:only-of-type {\n",
              "        vertical-align: middle;\n",
              "    }\n",
              "\n",
              "    .dataframe tbody tr th {\n",
              "        vertical-align: top;\n",
              "    }\n",
              "\n",
              "    .dataframe thead th {\n",
              "        text-align: right;\n",
              "    }\n",
              "</style>\n",
              "<table border=\"1\" class=\"dataframe\">\n",
              "  <thead>\n",
              "    <tr style=\"text-align: right;\">\n",
              "      <th></th>\n",
              "      <th>A</th>\n",
              "      <th>B</th>\n",
              "    </tr>\n",
              "  </thead>\n",
              "  <tbody>\n",
              "    <tr>\n",
              "      <th>count</th>\n",
              "      <td>100.000000</td>\n",
              "      <td>100.000000</td>\n",
              "    </tr>\n",
              "    <tr>\n",
              "      <th>mean</th>\n",
              "      <td>0.077897</td>\n",
              "      <td>49.777405</td>\n",
              "    </tr>\n",
              "    <tr>\n",
              "      <th>std</th>\n",
              "      <td>1.050532</td>\n",
              "      <td>9.735877</td>\n",
              "    </tr>\n",
              "    <tr>\n",
              "      <th>min</th>\n",
              "      <td>-3.108326</td>\n",
              "      <td>26.009460</td>\n",
              "    </tr>\n",
              "    <tr>\n",
              "      <th>25%</th>\n",
              "      <td>-0.599671</td>\n",
              "      <td>42.883708</td>\n",
              "    </tr>\n",
              "    <tr>\n",
              "      <th>50%</th>\n",
              "      <td>0.004454</td>\n",
              "      <td>49.158860</td>\n",
              "    </tr>\n",
              "    <tr>\n",
              "      <th>75%</th>\n",
              "      <td>0.804723</td>\n",
              "      <td>55.833038</td>\n",
              "    </tr>\n",
              "    <tr>\n",
              "      <th>max</th>\n",
              "      <td>2.839075</td>\n",
              "      <td>75.734327</td>\n",
              "    </tr>\n",
              "  </tbody>\n",
              "</table>\n",
              "</div>\n",
              "    <div class=\"colab-df-buttons\">\n",
              "\n",
              "  <div class=\"colab-df-container\">\n",
              "    <button class=\"colab-df-convert\" onclick=\"convertToInteractive('df-ea56d649-6b2c-44cc-b67b-1d962c0cfa0b')\"\n",
              "            title=\"Convert this dataframe to an interactive table.\"\n",
              "            style=\"display:none;\">\n",
              "\n",
              "  <svg xmlns=\"http://www.w3.org/2000/svg\" height=\"24px\" viewBox=\"0 -960 960 960\">\n",
              "    <path d=\"M120-120v-720h720v720H120Zm60-500h600v-160H180v160Zm220 220h160v-160H400v160Zm0 220h160v-160H400v160ZM180-400h160v-160H180v160Zm440 0h160v-160H620v160ZM180-180h160v-160H180v160Zm440 0h160v-160H620v160Z\"/>\n",
              "  </svg>\n",
              "    </button>\n",
              "\n",
              "  <style>\n",
              "    .colab-df-container {\n",
              "      display:flex;\n",
              "      gap: 12px;\n",
              "    }\n",
              "\n",
              "    .colab-df-convert {\n",
              "      background-color: #E8F0FE;\n",
              "      border: none;\n",
              "      border-radius: 50%;\n",
              "      cursor: pointer;\n",
              "      display: none;\n",
              "      fill: #1967D2;\n",
              "      height: 32px;\n",
              "      padding: 0 0 0 0;\n",
              "      width: 32px;\n",
              "    }\n",
              "\n",
              "    .colab-df-convert:hover {\n",
              "      background-color: #E2EBFA;\n",
              "      box-shadow: 0px 1px 2px rgba(60, 64, 67, 0.3), 0px 1px 3px 1px rgba(60, 64, 67, 0.15);\n",
              "      fill: #174EA6;\n",
              "    }\n",
              "\n",
              "    .colab-df-buttons div {\n",
              "      margin-bottom: 4px;\n",
              "    }\n",
              "\n",
              "    [theme=dark] .colab-df-convert {\n",
              "      background-color: #3B4455;\n",
              "      fill: #D2E3FC;\n",
              "    }\n",
              "\n",
              "    [theme=dark] .colab-df-convert:hover {\n",
              "      background-color: #434B5C;\n",
              "      box-shadow: 0px 1px 3px 1px rgba(0, 0, 0, 0.15);\n",
              "      filter: drop-shadow(0px 1px 2px rgba(0, 0, 0, 0.3));\n",
              "      fill: #FFFFFF;\n",
              "    }\n",
              "  </style>\n",
              "\n",
              "    <script>\n",
              "      const buttonEl =\n",
              "        document.querySelector('#df-ea56d649-6b2c-44cc-b67b-1d962c0cfa0b button.colab-df-convert');\n",
              "      buttonEl.style.display =\n",
              "        google.colab.kernel.accessAllowed ? 'block' : 'none';\n",
              "\n",
              "      async function convertToInteractive(key) {\n",
              "        const element = document.querySelector('#df-ea56d649-6b2c-44cc-b67b-1d962c0cfa0b');\n",
              "        const dataTable =\n",
              "          await google.colab.kernel.invokeFunction('convertToInteractive',\n",
              "                                                    [key], {});\n",
              "        if (!dataTable) return;\n",
              "\n",
              "        const docLinkHtml = 'Like what you see? Visit the ' +\n",
              "          '<a target=\"_blank\" href=https://colab.research.google.com/notebooks/data_table.ipynb>data table notebook</a>'\n",
              "          + ' to learn more about interactive tables.';\n",
              "        element.innerHTML = '';\n",
              "        dataTable['output_type'] = 'display_data';\n",
              "        await google.colab.output.renderOutput(dataTable, element);\n",
              "        const docLink = document.createElement('div');\n",
              "        docLink.innerHTML = docLinkHtml;\n",
              "        element.appendChild(docLink);\n",
              "      }\n",
              "    </script>\n",
              "  </div>\n",
              "\n",
              "\n",
              "<div id=\"df-defc6cfa-9acc-46bd-837d-94e4daa54f83\">\n",
              "  <button class=\"colab-df-quickchart\" onclick=\"quickchart('df-defc6cfa-9acc-46bd-837d-94e4daa54f83')\"\n",
              "            title=\"Suggest charts\"\n",
              "            style=\"display:none;\">\n",
              "\n",
              "<svg xmlns=\"http://www.w3.org/2000/svg\" height=\"24px\"viewBox=\"0 0 24 24\"\n",
              "     width=\"24px\">\n",
              "    <g>\n",
              "        <path d=\"M19 3H5c-1.1 0-2 .9-2 2v14c0 1.1.9 2 2 2h14c1.1 0 2-.9 2-2V5c0-1.1-.9-2-2-2zM9 17H7v-7h2v7zm4 0h-2V7h2v10zm4 0h-2v-4h2v4z\"/>\n",
              "    </g>\n",
              "</svg>\n",
              "  </button>\n",
              "\n",
              "<style>\n",
              "  .colab-df-quickchart {\n",
              "      --bg-color: #E8F0FE;\n",
              "      --fill-color: #1967D2;\n",
              "      --hover-bg-color: #E2EBFA;\n",
              "      --hover-fill-color: #174EA6;\n",
              "      --disabled-fill-color: #AAA;\n",
              "      --disabled-bg-color: #DDD;\n",
              "  }\n",
              "\n",
              "  [theme=dark] .colab-df-quickchart {\n",
              "      --bg-color: #3B4455;\n",
              "      --fill-color: #D2E3FC;\n",
              "      --hover-bg-color: #434B5C;\n",
              "      --hover-fill-color: #FFFFFF;\n",
              "      --disabled-bg-color: #3B4455;\n",
              "      --disabled-fill-color: #666;\n",
              "  }\n",
              "\n",
              "  .colab-df-quickchart {\n",
              "    background-color: var(--bg-color);\n",
              "    border: none;\n",
              "    border-radius: 50%;\n",
              "    cursor: pointer;\n",
              "    display: none;\n",
              "    fill: var(--fill-color);\n",
              "    height: 32px;\n",
              "    padding: 0;\n",
              "    width: 32px;\n",
              "  }\n",
              "\n",
              "  .colab-df-quickchart:hover {\n",
              "    background-color: var(--hover-bg-color);\n",
              "    box-shadow: 0 1px 2px rgba(60, 64, 67, 0.3), 0 1px 3px 1px rgba(60, 64, 67, 0.15);\n",
              "    fill: var(--button-hover-fill-color);\n",
              "  }\n",
              "\n",
              "  .colab-df-quickchart-complete:disabled,\n",
              "  .colab-df-quickchart-complete:disabled:hover {\n",
              "    background-color: var(--disabled-bg-color);\n",
              "    fill: var(--disabled-fill-color);\n",
              "    box-shadow: none;\n",
              "  }\n",
              "\n",
              "  .colab-df-spinner {\n",
              "    border: 2px solid var(--fill-color);\n",
              "    border-color: transparent;\n",
              "    border-bottom-color: var(--fill-color);\n",
              "    animation:\n",
              "      spin 1s steps(1) infinite;\n",
              "  }\n",
              "\n",
              "  @keyframes spin {\n",
              "    0% {\n",
              "      border-color: transparent;\n",
              "      border-bottom-color: var(--fill-color);\n",
              "      border-left-color: var(--fill-color);\n",
              "    }\n",
              "    20% {\n",
              "      border-color: transparent;\n",
              "      border-left-color: var(--fill-color);\n",
              "      border-top-color: var(--fill-color);\n",
              "    }\n",
              "    30% {\n",
              "      border-color: transparent;\n",
              "      border-left-color: var(--fill-color);\n",
              "      border-top-color: var(--fill-color);\n",
              "      border-right-color: var(--fill-color);\n",
              "    }\n",
              "    40% {\n",
              "      border-color: transparent;\n",
              "      border-right-color: var(--fill-color);\n",
              "      border-top-color: var(--fill-color);\n",
              "    }\n",
              "    60% {\n",
              "      border-color: transparent;\n",
              "      border-right-color: var(--fill-color);\n",
              "    }\n",
              "    80% {\n",
              "      border-color: transparent;\n",
              "      border-right-color: var(--fill-color);\n",
              "      border-bottom-color: var(--fill-color);\n",
              "    }\n",
              "    90% {\n",
              "      border-color: transparent;\n",
              "      border-bottom-color: var(--fill-color);\n",
              "    }\n",
              "  }\n",
              "</style>\n",
              "\n",
              "  <script>\n",
              "    async function quickchart(key) {\n",
              "      const quickchartButtonEl =\n",
              "        document.querySelector('#' + key + ' button');\n",
              "      quickchartButtonEl.disabled = true;  // To prevent multiple clicks.\n",
              "      quickchartButtonEl.classList.add('colab-df-spinner');\n",
              "      try {\n",
              "        const charts = await google.colab.kernel.invokeFunction(\n",
              "            'suggestCharts', [key], {});\n",
              "      } catch (error) {\n",
              "        console.error('Error during call to suggestCharts:', error);\n",
              "      }\n",
              "      quickchartButtonEl.classList.remove('colab-df-spinner');\n",
              "      quickchartButtonEl.classList.add('colab-df-quickchart-complete');\n",
              "    }\n",
              "    (() => {\n",
              "      let quickchartButtonEl =\n",
              "        document.querySelector('#df-defc6cfa-9acc-46bd-837d-94e4daa54f83 button');\n",
              "      quickchartButtonEl.style.display =\n",
              "        google.colab.kernel.accessAllowed ? 'block' : 'none';\n",
              "    })();\n",
              "  </script>\n",
              "</div>\n",
              "\n",
              "    </div>\n",
              "  </div>\n"
            ],
            "application/vnd.google.colaboratory.intrinsic+json": {
              "type": "dataframe",
              "summary": "{\n  \"name\": \"df\",\n  \"rows\": 8,\n  \"fields\": [\n    {\n      \"column\": \"A\",\n      \"properties\": {\n        \"dtype\": \"number\",\n        \"std\": 35.34115185120974,\n        \"min\": -3.108326240874721,\n        \"max\": 100.0,\n        \"num_unique_values\": 8,\n        \"samples\": [\n          0.07789659211644058,\n          0.004453981420065225,\n          100.0\n        ],\n        \"semantic_type\": \"\",\n        \"description\": \"\"\n      }\n    },\n    {\n      \"column\": \"B\",\n      \"properties\": {\n        \"dtype\": \"number\",\n        \"std\": 27.86190044964637,\n        \"min\": 9.735877370296365,\n        \"max\": 100.0,\n        \"num_unique_values\": 8,\n        \"samples\": [\n          49.777405168292695,\n          49.1588603803321,\n          100.0\n        ],\n        \"semantic_type\": \"\",\n        \"description\": \"\"\n      }\n    }\n  ]\n}"
            }
          },
          "metadata": {},
          "execution_count": 15
        }
      ],
      "source": [
        "df = pd.DataFrame({'A': np.random.randn(100), 'B': np.random.randn(100)*10 + 50})\n",
        "df.describe()"
      ],
      "id": "7BxiK1f7q1Xv"
    },
    {
      "cell_type": "markdown",
      "metadata": {
        "id": "ucMvnHW5q1Xv"
      },
      "source": [
        "**Q40. Plot a boxplot to understand the spread and identify outliers.**"
      ],
      "id": "ucMvnHW5q1Xv"
    },
    {
      "cell_type": "code",
      "execution_count": 16,
      "metadata": {
        "colab": {
          "base_uri": "https://localhost:8080/",
          "height": 452
        },
        "id": "Tp55FbQLq1Xw",
        "outputId": "1255b086-843b-4fbe-826b-af469cd40023"
      },
      "outputs": [
        {
          "output_type": "display_data",
          "data": {
            "text/plain": [
              "<Figure size 640x480 with 1 Axes>"
            ],
            "image/png": "[encoded data removed]"
          },
          "metadata": {}
        }
      ],
      "source": [
        "plt.boxplot(df['A'])\n",
        "plt.title('Boxplot of A')\n",
        "plt.show()"
      ],
      "id": "Tp55FbQLq1Xw"
    },
    {
      "cell_type": "markdown",
      "metadata": {
        "id": "kdvLajY7q1Xw"
      },
      "source": [
        "**Q41. Calculate the interquartile range (IQR) of a dataset.**"
      ],
      "id": "kdvLajY7q1Xw"
    },
    {
      "cell_type": "code",
      "execution_count": 17,
      "metadata": {
        "colab": {
          "base_uri": "https://localhost:8080/"
        },
        "id": "46fuUtjZq1Xx",
        "outputId": "5d55aa65-5d12-4ee6-c86e-eebd4d965e3b"
      },
      "outputs": [
        {
          "output_type": "execute_result",
          "data": {
            "text/plain": [
              "np.float64(1.4043943021228773)"
            ]
          },
          "metadata": {},
          "execution_count": 17
        }
      ],
      "source": [
        "q1 = df['A'].quantile(0.25)\n",
        "q3 = df['A'].quantile(0.75)\n",
        "iqr = q3 - q1\n",
        "iqr"
      ],
      "id": "46fuUtjZq1Xx"
    },
    {
      "cell_type": "markdown",
      "metadata": {
        "id": "UpCwN4RNq1Xx"
      },
      "source": [
        "**Q42. Implement Z-score normalization and explain its significance.**"
      ],
      "id": "UpCwN4RNq1Xx"
    },
    {
      "cell_type": "code",
      "execution_count": 18,
      "metadata": {
        "id": "jxEPi_BFq1Xx"
      },
      "outputs": [],
      "source": [
        "df['A_zscore'] = (df['A'] - df['A'].mean())/df['A'].std()"
      ],
      "id": "jxEPi_BFq1Xx"
    },
    {
      "cell_type": "markdown",
      "metadata": {
        "id": "YI611dt5q1Xy"
      },
      "source": [
        "**Q43. Compare two datasets using their standard deviations.**"
      ],
      "id": "YI611dt5q1Xy"
    },
    {
      "cell_type": "code",
      "execution_count": 19,
      "metadata": {
        "colab": {
          "base_uri": "https://localhost:8080/"
        },
        "id": "_ku81T2gq1Xy",
        "outputId": "e92b0c4f-8afb-4272-85ab-a8bd2b2633e4"
      },
      "outputs": [
        {
          "output_type": "execute_result",
          "data": {
            "text/plain": [
              "(1.0505317141602126, 9.735877370296365)"
            ]
          },
          "metadata": {},
          "execution_count": 19
        }
      ],
      "source": [
        "std_A = df['A'].std()\n",
        "std_B = df['B'].std()\n",
        "std_A, std_B"
      ],
      "id": "_ku81T2gq1Xy"
    },
    {
      "cell_type": "markdown",
      "metadata": {
        "id": "JuuYdJnpq1Xy"
      },
      "source": [
        "**Q44. Write a Python program to visualize covariance using a heatmap.**"
      ],
      "id": "JuuYdJnpq1Xy"
    },
    {
      "cell_type": "code",
      "execution_count": 20,
      "metadata": {
        "colab": {
          "base_uri": "https://localhost:8080/",
          "height": 452
        },
        "id": "KSdCQu_Wq1Xy",
        "outputId": "e9fed0c8-6b98-43f4-9c99-95ce6a09f5a4"
      },
      "outputs": [
        {
          "output_type": "display_data",
          "data": {
            "text/plain": [
              "<Figure size 640x480 with 2 Axes>"
            ],
            "image/png": "[encoded data removed]"
          },
          "metadata": {}
        }
      ],
      "source": [
        "cov_mat = df.cov()\n",
        "sns.heatmap(cov_mat, annot=True)\n",
        "plt.title('Covariance Heatmap')\n",
        "plt.show()"
      ],
      "id": "KSdCQu_Wq1Xy"
    },
    {
      "cell_type": "markdown",
      "metadata": {
        "id": "Pz3nWkeWq1Xy"
      },
      "source": [
        "**Q45. Use seaborn to create a correlation matrix for a dataset.**"
      ],
      "id": "Pz3nWkeWq1Xy"
    },
    {
      "cell_type": "code",
      "execution_count": 21,
      "metadata": {
        "colab": {
          "base_uri": "https://localhost:8080/",
          "height": 452
        },
        "id": "xWNabVOJq1Xz",
        "outputId": "9fdc7d01-9a1f-487c-da9e-3f597085351f"
      },
      "outputs": [
        {
          "output_type": "display_data",
          "data": {
            "text/plain": [
              "<Figure size 640x480 with 2 Axes>"
            ],
            "image/png": "[encoded data removed]"
          },
          "metadata": {}
        }
      ],
      "source": [
        "corr_mat = df.corr()\n",
        "sns.heatmap(corr_mat, annot=True)\n",
        "plt.title('Correlation Matrix')\n",
        "plt.show()"
      ],
      "id": "xWNabVOJq1Xz"
    },
    {
      "cell_type": "markdown",
      "metadata": {
        "id": "r0wUUIysq1Xz"
      },
      "source": [
        "**Q46. Generate a dataset and implement both variance and standard deviation computations.**"
      ],
      "id": "r0wUUIysq1Xz"
    },
    {
      "cell_type": "code",
      "execution_count": 22,
      "metadata": {
        "colab": {
          "base_uri": "https://localhost:8080/"
        },
        "id": "Z9tpch3pq1Xz",
        "outputId": "99f1a5b8-8ec4-46f7-8937-4084757b6335"
      },
      "outputs": [
        {
          "output_type": "stream",
          "name": "stdout",
          "text": [
            "Variance: 0.8043463128265386\n",
            "Std Dev: 0.8968535626436116\n"
          ]
        }
      ],
      "source": [
        "data46 = np.random.randn(200)\n",
        "print('Variance:', np.var(data46))\n",
        "print('Std Dev:', np.std(data46))"
      ],
      "id": "Z9tpch3pq1Xz"
    },
    {
      "cell_type": "markdown",
      "metadata": {
        "id": "1ufURpuwq1X0"
      },
      "source": [
        "**Q47. Visualize skewness and kurtosis using Python libraries like matplotlib or seaborn.**"
      ],
      "id": "1ufURpuwq1X0"
    },
    {
      "cell_type": "code",
      "execution_count": 23,
      "metadata": {
        "colab": {
          "base_uri": "https://localhost:8080/",
          "height": 452
        },
        "id": "sVxH_XVaq1X0",
        "outputId": "24545972-842d-482c-c5b7-7ca0664471ea"
      },
      "outputs": [
        {
          "output_type": "display_data",
          "data": {
            "text/plain": [
              "<Figure size 640x480 with 1 Axes>"
            ],
            "image/png": "[encoded data removed]"
          },
          "metadata": {}
        }
      ],
      "source": [
        "sns.histplot(data46, kde=True)\n",
        "plt.title(f'Skew: {stats.skew(data46):.2f}, Kurtosis: {stats.kurtosis(data46):.2f}')\n",
        "plt.show()"
      ],
      "id": "sVxH_XVaq1X0"
    },
    {
      "cell_type": "markdown",
      "metadata": {
        "id": "De8pqyDfq1X1"
      },
      "source": [
        "**Q48. Implement the Pearson and Spearman correlation coefficients for a dataset.**"
      ],
      "id": "De8pqyDfq1X1"
    },
    {
      "cell_type": "code",
      "execution_count": 24,
      "metadata": {
        "colab": {
          "base_uri": "https://localhost:8080/"
        },
        "id": "o910yPiDq1X1",
        "outputId": "e27618e4-70d6-4d9d-fc36-ba8d93c6e9a3"
      },
      "outputs": [
        {
          "output_type": "execute_result",
          "data": {
            "text/plain": [
              "(np.float64(0.06595884354620357), np.float64(0.03779177917791779))"
            ]
          },
          "metadata": {},
          "execution_count": 24
        }
      ],
      "source": [
        "pearson_corr, _ = stats.pearsonr(df['A'], df['B'])\n",
        "spearman_corr, _ = stats.spearmanr(df['A'], df['B'])\n",
        "pearson_corr, spearman_corr"
      ],
      "id": "o910yPiDq1X1"
    }
  ],
  "metadata": {
    "kernelspec": {
      "display_name": "Python 3",
      "language": "python",
      "name": "python3"
    },
    "language_info": {
      "name": "python",
      "version": "3.x"
    },
    "colab": {
      "provenance": []
    }
  },
  "nbformat": 4,
  "nbformat_minor": 5
}